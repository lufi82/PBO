{
  "nbformat": 4,
  "nbformat_minor": 0,
  "metadata": {
    "colab": {
      "provenance": []
    },
    "kernelspec": {
      "name": "python3",
      "display_name": "Python 3"
    },
    "language_info": {
      "name": "python"
    }
  },
  "cells": [
    {
      "cell_type": "code",
      "execution_count": null,
      "metadata": {
        "id": "5pHWqvso8Ljd"
      },
      "outputs": [],
      "source": [
        "#Program Membuat List\n",
        "\n",
        "\n",
        "# Pembuatan list pada bahasa pemrograman python\n",
        "list1 = [\"a\", \"b\", \"c\", \"d\"]\n",
        "list2 = ['bahasa arab', 'bahasa aceh', 2019, 2020]\n",
        "list3 = [1, 2, 3, 4, 5, 6, 7 ]\n",
        "\n",
        "\n",
        "# Mengakses Nilai list dalam Python\n",
        "print (\"list1[0]: \", list1[0])\n",
        "print (\"list2[1:3]: \", list2[1:3])\n",
        "print (\"list3[1:5]: \", list3[1:6])"
      ]
    },
    {
      "cell_type": "code",
      "source": [
        "#Mengupdate Nilai pada List\n",
        "\n",
        "\n",
        "# Pembuatan list dan mengakses nilai list pada indeks 2\n",
        "ist = ['bahasa arab', 'bahasa aceh', 2019, 2020]\n",
        "print (\"Nilai ada pada index 2 adalah: \", list[2])\n",
        "\n",
        "# Proses Update nilai list pada indeks 2\n",
        "list[2] = 2018\n",
        "print (\"Nilai baru ada pada index 2 adalah: \", list[2])"
      ],
      "metadata": {
        "id": "2ea1SC_I8ZBl"
      },
      "execution_count": null,
      "outputs": []
    },
    {
      "cell_type": "code",
      "source": [
        "#Menghapus Nilai pada List\n",
        "\n",
        "\n",
        "# Pembuatan list\n",
        "list = ['bahasa arab', 'bahasa aceh', 2019, 2020]\n",
        "print (\"Daftar list sebelum dihapus:\", list)\n",
        "\n",
        "# Proses menghapus nilai List pada indeks 1\n",
        "del list[1]\n",
        "print (\"Setelah dihapus nilai pada index 1 : \", list)"
      ],
      "metadata": {
        "id": "IRxZU6kS8gsj"
      },
      "execution_count": null,
      "outputs": []
    }
  ]
}